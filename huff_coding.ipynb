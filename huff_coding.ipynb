{
 "cells": [
  {
   "cell_type": "code",
   "execution_count": 85,
   "metadata": {},
   "outputs": [],
   "source": [
    "# import useful libraries first\n",
    "import os\n",
    "import math\n",
    "import numpy as np\n",
    "from collections import Counter\n",
    "import matplotlib.pyplot as plt\n",
    "from __future__ import division\n",
    "%matplotlib inline\n",
    "\n",
    "\n"
   ]
  },
  {
   "cell_type": "code",
   "execution_count": 77,
   "metadata": {},
   "outputs": [
    {
     "name": "stdout",
     "output_type": "stream",
     "text": [
      "('character counts: ', Counter({'A': 10, 'E': 9, 'C': 6, 'B': 4, 'G': 4, 'F': 4, 'D': 3}))\n",
      "('Encoding dictionary: ', {'A': '', 'C': '', 'B': '', 'E': '', 'D': '', 'G': '', 'F': ''})\n"
     ]
    }
   ],
   "source": [
    "# dummy data to work with\n",
    "data = list('CDEGFEBAEACEFADAEFEABBEACGDABCAECAGCEAFG')\n",
    "# get a counter going\n",
    "dcounts = Counter(data)\n",
    "print('character counts: ',dcounts)\n",
    "\n",
    "#create a new dictionary for encoding.\n",
    "empts = ['' for c in dcounts]\n",
    "enc_dict = dict(zip(dcounts.keys(),empts))\n",
    "print('Encoding dictionary: ',enc_dict)\n"
   ]
  },
  {
   "cell_type": "code",
   "execution_count": 78,
   "metadata": {},
   "outputs": [
    {
     "name": "stdout",
     "output_type": "stream",
     "text": [
      "(array(['A', 'C', 'B', 'E', 'D', 'G', 'F'], \n",
      "      dtype='|S1'), array([ 0.25 ,  0.15 ,  0.1  ,  0.225,  0.075,  0.1  ,  0.1  ]))\n"
     ]
    }
   ],
   "source": [
    "# so now make arrays we can change\n",
    "ks,vs = np.array(dcounts.keys()),np.array(dcounts.values())\n",
    "vs = vs/sum(vs)\n",
    "print(ks,vs)"
   ]
  },
  {
   "cell_type": "code",
   "execution_count": 79,
   "metadata": {},
   "outputs": [],
   "source": [
    "# so to understand this loop, I wrote the inside without a loop\n",
    "# then just ran it a couple of times. The while loop will continue to run \n",
    "# until the length of ks, which is 1. so ks is an array that temporarily \n",
    "# keeps track of our nodes\n",
    "\n",
    "while not len(ks)==1:\n",
    "    # a variable to hold the 2 mins - alphabetically\n",
    "    # so I want to make sure that when I get the smallest\n",
    "    # probability, that it lines up with its character key\n",
    "    mini = sorted(zip(vs,ks))\n",
    "    # print mini to see what is there\n",
    "    \n",
    "    # so now we sum probability -- you need to see mini first to get the \n",
    "    # referencing here\n",
    "    p_  = mini[0][0]+mini[1][0]\n",
    "    # sum the characters \n",
    "    ch_ = mini[0][1]+mini[1][1] \n",
    "    #print(p_,ch_)\n",
    "\n",
    "    # add a zero or a 1 to the encoding dict \n",
    "    # depending on the locaton of the string\n",
    "    for chi,ch in enumerate(ch_):\n",
    "        if chi ==0:\n",
    "            enc_dict[ch]+='0'\n",
    "        else:\n",
    "            enc_dict[ch]+='1'\n",
    "    #print('encoding dictionary', enc_dict)\n",
    "\n",
    "    # delete the 2 that we just combined\n",
    "    # by using a mask\n",
    "    for i in mini[0:2]:\n",
    "        #print(i)\n",
    "        # so here we make a mask that gives true where\n",
    "        # the stuff inside of i is equal to ks, so we are searching\n",
    "        # for the character pairs we just made\n",
    "        mask =  ks == i[1]\n",
    "        # when we do ~mask, all the trues and falses reverse, so that\n",
    "        # when we reference we get back an array where the character pair \n",
    "        # we identified is deleted\n",
    "        ks = ks[~mask]\n",
    "        vs = vs[~mask]\n",
    "        \n",
    "    # next we want to add in the new pair and values\n",
    "    ks =np.append(ks,np.array([ch_]))\n",
    "    vs =np.append(vs,np.array([p_]))\n",
    "    #print(ks,vs)"
   ]
  },
  {
   "cell_type": "code",
   "execution_count": 80,
   "metadata": {},
   "outputs": [
    {
     "name": "stdout",
     "output_type": "stream",
     "text": [
      "{'A': '01', 'C': '011', 'B': '1111', 'E': '11', 'D': '0111', 'G': '111', 'F': '000'}\n"
     ]
    }
   ],
   "source": [
    "print(enc_dict)"
   ]
  },
  {
   "cell_type": "code",
   "execution_count": 81,
   "metadata": {},
   "outputs": [
    {
     "name": "stdout",
     "output_type": "stream",
     "text": [
      "{'A': '10', 'C': '110', 'B': '1111', 'E': '11', 'D': '1110', 'G': '111', 'F': '000'}\n"
     ]
    }
   ],
   "source": [
    "#we need to reverse the dictionary entries, because we want\n",
    "# the numbers to go from the top of the tree to the bottom\n",
    "# but we constructed from the bottom to the top\n",
    "for k,v in enc_dict.iteritems():\n",
    "    enc_dict[k] = v[::-1]\n",
    "print(enc_dict)"
   ]
  },
  {
   "cell_type": "code",
   "execution_count": 83,
   "metadata": {},
   "outputs": [
    {
     "name": "stdout",
     "output_type": "stream",
     "text": [
      "['C', 'D', 'E', 'G', 'F', 'E', 'B', 'A', 'E', 'A', 'C', 'E', 'F', 'A', 'D', 'A', 'E', 'F', 'E', 'A', 'B', 'B', 'E', 'A', 'C', 'G', 'D', 'A', 'B', 'C', 'A', 'E', 'C', 'A', 'G', 'C', 'E', 'A', 'F', 'G']\n",
      "['110', '1110', '11', '111', '000', '11', '1111', '10', '11', '10', '110', '11', '000', '10', '1110', '10', '11', '000', '11', '10', '1111', '1111', '11', '10', '110', '111', '1110', '10', '1111', '110', '10', '11', '110', '10', '111', '110', '11', '10', '000', '111']\n",
      "110 1110 11 111 000 11 1111 10 11 10 110 11 000 10 1110 10 11 000 11 10 1111 1111 11 10 110 111 1110 10 1111 110 10 11 110 10 111 110 11 10 000 111\n"
     ]
    }
   ],
   "source": [
    "# on the last step we want to encode the string provided to us.\n",
    "enc_data = [enc_dict[j] for j in data]\n",
    "print(data)\n",
    "print(enc_data)\n",
    "\n",
    "# if you need to, encode the data with some delimiter so the computer knows\n",
    "# where to get breaks\n",
    "out_str = ' '.join(enc_data)\n",
    "print(out_str)"
   ]
  }
 ],
 "metadata": {
  "kernelspec": {
   "display_name": "Python 3.10.5 64-bit",
   "language": "python",
   "name": "python3"
  },
  "language_info": {
   "codemirror_mode": {
    "name": "ipython",
    "version": 2
   },
   "file_extension": ".py",
   "mimetype": "text/x-python",
   "name": "python",
   "nbconvert_exporter": "python",
   "pygments_lexer": "ipython2",
   "version": "3.10.5"
  },
  "vscode": {
   "interpreter": {
    "hash": "afb734500600fd355917ca529030176ea0ca205570884b88f2f6f7d791fd3fbe"
   }
  }
 },
 "nbformat": 4,
 "nbformat_minor": 2
}

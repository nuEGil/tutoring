{
 "cells": [
  {
   "cell_type": "code",
   "execution_count": 34,
   "metadata": {},
   "outputs": [],
   "source": [
    "import os\n",
    "import numpy as np\n",
    "from collections import Counter\n",
    "from __future__ import division\n",
    "# P(XY) is probability of X and Y\n",
    "# define the file path for the text file of interest - yours will be different\n",
    "fpath = \"data\"\n",
    "fname = \"metamorphosis.txt\"\n",
    "# open the text file and start reading the lines in\n",
    "f = open(os.path.join(fpath,fname),'r')\n",
    "chars = []\n",
    "for line in f:\n",
    "    lowers = [str(unicode(a.lower(),errors='ignore')) for a in line ]\n",
    "    chars.extend(lowers)\n",
    "    \n",
    "#print(chars)\n",
    "\n",
    "f.close() # its just good form to close the file after use\n",
    "\n"
   ]
  },
  {
   "cell_type": "code",
   "execution_count": 35,
   "metadata": {},
   "outputs": [
    {
     "name": "stdout",
     "output_type": "stream",
     "text": [
      "Counter({' ': 21540, 'e': 12840, 't': 9667, 'o': 7959, 'a': 7917, 'h': 7336, 'i': 7015, 'n': 6767, 'r': 6385, 's': 6301, 'd': 4486, 'l': 4445, 'm': 2607, 'u': 2601, 'g': 2512, 'c': 2429, 'w': 2425, 'f': 2288, 'y': 1864, '\\n': 1847, 'p': 1635, ',': 1527, 'b': 1391, '.': 968, 'v': 943, 'k': 723, '': 331, '\"': 298, \"'\": 265, 'x': 123, 'q': 120, 'j': 83, '?': 66, 'z': 59, '1': 43, '-': 34, '2': 34, ';': 33, '!': 32, ':': 25, '9': 21, '3': 20, '4': 20, ')': 18, '(': 18, '8': 15, '0': 13, '5': 13, '6': 8, '7': 7, '/': 3, '+': 1})\n"
     ]
    }
   ],
   "source": [
    "char_counts = Counter(chars)\n",
    "print(char_counts)"
   ]
  },
  {
   "cell_type": "code",
   "execution_count": 36,
   "metadata": {},
   "outputs": [
    {
     "name": "stdout",
     "output_type": "stream",
     "text": [
      "(0.99999999999999989, {'': 0.0025437861682587747, '\\n': 0.014194480521975699, '!': 0.0002459249467803045, ' ': 0.16553822980149246, '\"': 0.0022901760668915857, \"'\": 0.0020365659655243967, ')': 0.00013833278256392126, '(': 0.00013833278256392126, '+': 7.6851545868845158e-06, '-': 0.00026129525595407351, ',': 0.011735231054172655, '/': 2.3055463760653546e-05, '.': 0.0074392296401042104, '1': 0.00033046164723603413, '0': 9.99070096294987e-05, '3': 0.0001537030917376903, '2': 0.00026129525595407351, '5': 9.99070096294987e-05, '4': 0.0001537030917376903, '7': 5.3796082108191609e-05, '6': 6.1481236695076126e-05, '9': 0.00016138824632457483, '8': 0.00011527731880326772, ';': 0.00025361010136718898, ':': 0.00019212886467211287, '?': 0.00050722020273437796, 'a': 0.060843368864364707, 'c': 0.018667240491542489, 'b': 0.010690050030356361, 'e': 0.098677384895597173, 'd': 0.034475603476763934, 'g': 0.019305108322253902, 'f': 0.017583633694791771, 'i': 0.053911359426994876, 'h': 0.056378294049384804, 'k': 0.0055563667663175043, 'j': 0.00063786783071141477, 'm': 0.020035198008007932, 'l': 0.034160512138701672, 'o': 0.061166145357013854, 'n': 0.052005441089447511, 'q': 0.00092221855042614177, 'p': 0.012565227749556183, 's': 0.048424159051959327, 'r': 0.049069712037257629, 'u': 0.019989087080486623, 't': 0.074292389391412611, 'w': 0.018636499873194948, 'v': 0.0072471007754320981, 'y': 0.014325128149952735, 'x': 0.00094527401418679536, 'z': 0.00045342412062618641})\n"
     ]
    }
   ],
   "source": [
    "vals      = np.array(char_counts.values())\n",
    "probs     = vals/sum(vals)\n",
    "probs_key = char_counts.keys()\n",
    "P = dict(zip(probs_key,probs))\n",
    "print(sum(P.values()),P)"
   ]
  },
  {
   "cell_type": "code",
   "execution_count": 37,
   "metadata": {},
   "outputs": [
    {
     "name": "stdout",
     "output_type": "stream",
     "text": [
      "4.30017605926\n"
     ]
    }
   ],
   "source": [
    "# caclclate the entropy for the chars\n",
    "H = - sum(probs*np.log2(probs))\n",
    "print(H)\n"
   ]
  },
  {
   "cell_type": "code",
   "execution_count": 38,
   "metadata": {},
   "outputs": [],
   "source": [
    "# now that we are at this point we can make a function to get this information\n",
    "def ent_calc(chars):\n",
    "    char_counts = Counter(chars)\n",
    "    #print(char_counts)\n",
    "    vals      = np.array(char_counts.values())\n",
    "    probs     = vals/sum(vals)\n",
    "    probs_key = char_counts.keys()\n",
    "    P = dict(zip(probs_key,probs))\n",
    "    #print(sum(P.values()),P)\n",
    "    H = - sum(probs*np.log2(probs))\n",
    "    #print(H)\n",
    "    return P,H"
   ]
  },
  {
   "cell_type": "code",
   "execution_count": 39,
   "metadata": {},
   "outputs": [
    {
     "name": "stdout",
     "output_type": "stream",
     "text": [
      "(130121, 130120, 130120)\n",
      "['th', 'he', 'e ', ' m', 'me']\n",
      "H(X) = 4.30016192819\n",
      "H(Y) = 4.30018028202\n",
      "H(XY) = 7.7028884267\n",
      "\n",
      "mutual entropy I(Y;X) = 0.897453783508\n",
      "\n"
     ]
    }
   ],
   "source": [
    "#calculate the mutual entropy\n",
    "xchars = chars[0:-1] # so this is an array of current characters\n",
    "ychars = chars[1::]   # this is an array of the following characters\n",
    "xychars = [x+y for x,y in zip(xchars,ychars)] # this contains all the observed pairs. since we can observe xy, or yx \n",
    "print(len(chars),len(xchars),len(ychars)) # we want that len(chars) = len(xchars)+1 = len(ychars)+1\n",
    "print(xychars[0:5])\n",
    "\n",
    "# call our entropy and probability calculator\n",
    "px,hx = ent_calc(xchars)\n",
    "py,hy = ent_calc(ychars)\n",
    "pxy,hxy = ent_calc(xychars)\n",
    "\n",
    "print('H(X) = {}\\nH(Y) = {}\\nH(XY) = {}\\n'.format(hx,hy,hxy))\n",
    "print('mutual entropy I(Y;X) = {}\\n'.format(hx+hy-hxy))\n",
    "\n",
    "# intuitively this tells us how much energy is still un accounted for in the system\n",
    "# after all our observations have been made.. smaller number makes sense for larger \n",
    "# texts because it means that we make so many observations that the probability of\n",
    "# any 1 character appearing isn't any more likely than another. "
   ]
  },
  {
   "cell_type": "code",
   "execution_count": null,
   "metadata": {},
   "outputs": [],
   "source": []
  },
  {
   "cell_type": "code",
   "execution_count": null,
   "metadata": {},
   "outputs": [],
   "source": []
  }
 ],
 "metadata": {
  "kernelspec": {
   "display_name": "Python 3.10.5 64-bit",
   "language": "python",
   "name": "python3"
  },
  "language_info": {
   "codemirror_mode": {
    "name": "ipython",
    "version": 2
   },
   "file_extension": ".py",
   "mimetype": "text/x-python",
   "name": "python",
   "nbconvert_exporter": "python",
   "pygments_lexer": "ipython2",
   "version": "3.10.5"
  },
  "vscode": {
   "interpreter": {
    "hash": "afb734500600fd355917ca529030176ea0ca205570884b88f2f6f7d791fd3fbe"
   }
  }
 },
 "nbformat": 4,
 "nbformat_minor": 2
}
